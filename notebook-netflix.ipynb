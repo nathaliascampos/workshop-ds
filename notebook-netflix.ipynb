{
 "cells": [
  {
   "cell_type": "markdown",
   "id": "0ea2f505",
   "metadata": {
    "papermill": {
     "duration": 0.018123,
     "end_time": "2021-10-26T15:00:18.594230",
     "exception": false,
     "start_time": "2021-10-26T15:00:18.576107",
     "status": "completed"
    },
    "tags": []
   },
   "source": [
    "# **Introdução à Ciência de Dados - Explorando Dados**\n",
    "Vamos utilizar um dataset de listagem de filmes e shows de tv na Netflix. \n",
    "Esse dataset se encontra no Kaggle, onde é possível fazer o download.\n",
    "\n",
    "Link do dataset: https://www.kaggle.com/shivamb/netflix-shows\n",
    "\n",
    "Começamos importando os pacotes necessários:"
   ]
  },
  {
   "cell_type": "code",
   "execution_count": 1,
   "id": "e8d4a23e",
   "metadata": {
    "_cell_guid": "b1076dfc-b9ad-4769-8c92-a6c4dae69d19",
    "_uuid": "8f2839f25d086af736a60e9eeb907d3b93b6e0e5",
    "execution": {
     "iopub.execute_input": "2021-10-26T15:00:18.640586Z",
     "iopub.status.busy": "2021-10-26T15:00:18.639848Z",
     "iopub.status.idle": "2021-10-26T15:00:20.727556Z",
     "shell.execute_reply": "2021-10-26T15:00:20.726859Z",
     "shell.execute_reply.started": "2021-10-26T14:56:31.801883Z"
    },
    "papermill": {
     "duration": 2.113321,
     "end_time": "2021-10-26T15:00:20.727714",
     "exception": false,
     "start_time": "2021-10-26T15:00:18.614393",
     "status": "completed"
    },
    "tags": []
   },
   "outputs": [],
   "source": [
    "import numpy as np \n",
    "import pandas as pd \n",
    "\n",
    "import os\n",
    "\n",
    "import matplotlib.pyplot as plt\n",
    "import plotly.express as px\n",
    "import seaborn as sns\n",
    "\n",
    "# for dirname, _, filenames in os.walk('/kaggle/input'):\n",
    "#     for filename in filenames:\n",
    "#         print(os.path.join(dirname, filename))"
   ]
  },
  {
   "cell_type": "markdown",
   "id": "d6b8b3b5",
   "metadata": {
    "papermill": {
     "duration": 0.016534,
     "end_time": "2021-10-26T15:00:20.761299",
     "exception": false,
     "start_time": "2021-10-26T15:00:20.744765",
     "status": "completed"
    },
    "tags": []
   },
   "source": [
    "Como estamos utilizando o próximo kaggle, basta ler o dataset passando o caminho do arquivo:"
   ]
  },
  {
   "cell_type": "code",
   "execution_count": 2,
   "id": "b438432c",
   "metadata": {
    "execution": {
     "iopub.execute_input": "2021-10-26T15:00:20.802129Z",
     "iopub.status.busy": "2021-10-26T15:00:20.801450Z",
     "iopub.status.idle": "2021-10-26T15:00:20.946574Z",
     "shell.execute_reply": "2021-10-26T15:00:20.945990Z",
     "shell.execute_reply.started": "2021-10-26T14:32:17.276148Z"
    },
    "papermill": {
     "duration": 0.166873,
     "end_time": "2021-10-26T15:00:20.946720",
     "exception": false,
     "start_time": "2021-10-26T15:00:20.779847",
     "status": "completed"
    },
    "tags": []
   },
   "outputs": [],
   "source": [
    "netflix_titles = pd.read_csv(\"/kaggle/input/netflix-shows/netflix_titles.csv\")"
   ]
  },
  {
   "cell_type": "markdown",
   "id": "a216611c",
   "metadata": {
    "papermill": {
     "duration": 0.017903,
     "end_time": "2021-10-26T15:00:20.982191",
     "exception": false,
     "start_time": "2021-10-26T15:00:20.964288",
     "status": "completed"
    },
    "tags": []
   },
   "source": [
    "---\n",
    "# **Funções básicas**\n",
    "**type():** Verificar o tipo da variável: "
   ]
  },
  {
   "cell_type": "code",
   "execution_count": 3,
   "id": "8184acb1",
   "metadata": {
    "execution": {
     "iopub.execute_input": "2021-10-26T15:00:21.025575Z",
     "iopub.status.busy": "2021-10-26T15:00:21.024767Z",
     "iopub.status.idle": "2021-10-26T15:00:21.028474Z",
     "shell.execute_reply": "2021-10-26T15:00:21.028926Z",
     "shell.execute_reply.started": "2021-10-26T14:32:22.853149Z"
    },
    "papermill": {
     "duration": 0.028912,
     "end_time": "2021-10-26T15:00:21.029086",
     "exception": false,
     "start_time": "2021-10-26T15:00:21.000174",
     "status": "completed"
    },
    "tags": []
   },
   "outputs": [
    {
     "data": {
      "text/plain": [
       "pandas.core.frame.DataFrame"
      ]
     },
     "execution_count": 3,
     "metadata": {},
     "output_type": "execute_result"
    }
   ],
   "source": [
    "type(netflix_titles)"
   ]
  },
  {
   "cell_type": "markdown",
   "id": "4045c3ab",
   "metadata": {
    "papermill": {
     "duration": 0.017035,
     "end_time": "2021-10-26T15:00:21.063824",
     "exception": false,
     "start_time": "2021-10-26T15:00:21.046789",
     "status": "completed"
    },
    "tags": []
   },
   "source": [
    "**.shape:** Retorna uma tupla representando a dimensionalidade do dataframe:"
   ]
  },
  {
   "cell_type": "code",
   "execution_count": 4,
   "id": "6a794bf6",
   "metadata": {
    "execution": {
     "iopub.execute_input": "2021-10-26T15:00:21.105873Z",
     "iopub.status.busy": "2021-10-26T15:00:21.105156Z",
     "iopub.status.idle": "2021-10-26T15:00:21.107967Z",
     "shell.execute_reply": "2021-10-26T15:00:21.108543Z",
     "shell.execute_reply.started": "2021-10-26T14:32:27.524964Z"
    },
    "papermill": {
     "duration": 0.027419,
     "end_time": "2021-10-26T15:00:21.108717",
     "exception": false,
     "start_time": "2021-10-26T15:00:21.081298",
     "status": "completed"
    },
    "tags": []
   },
   "outputs": [
    {
     "data": {
      "text/plain": [
       "(8807, 12)"
      ]
     },
     "execution_count": 4,
     "metadata": {},
     "output_type": "execute_result"
    }
   ],
   "source": [
    "netflix_titles.shape"
   ]
  },
  {
   "cell_type": "markdown",
   "id": "a6b33554",
   "metadata": {
    "papermill": {
     "duration": 0.01769,
     "end_time": "2021-10-26T15:00:21.146879",
     "exception": false,
     "start_time": "2021-10-26T15:00:21.129189",
     "status": "completed"
    },
    "tags": []
   },
   "source": [
    "**.columns:** Nomes das colunas do dataframe"
   ]
  },
  {
   "cell_type": "code",
   "execution_count": 5,
   "id": "15b279bd",
   "metadata": {
    "execution": {
     "iopub.execute_input": "2021-10-26T15:00:21.192830Z",
     "iopub.status.busy": "2021-10-26T15:00:21.191820Z",
     "iopub.status.idle": "2021-10-26T15:00:21.195985Z",
     "shell.execute_reply": "2021-10-26T15:00:21.195209Z",
     "shell.execute_reply.started": "2021-10-26T14:32:34.078967Z"
    },
    "papermill": {
     "duration": 0.029993,
     "end_time": "2021-10-26T15:00:21.196174",
     "exception": false,
     "start_time": "2021-10-26T15:00:21.166181",
     "status": "completed"
    },
    "tags": []
   },
   "outputs": [
    {
     "data": {
      "text/plain": [
       "Index(['show_id', 'type', 'title', 'director', 'cast', 'country', 'date_added',\n",
       "       'release_year', 'rating', 'duration', 'listed_in', 'description'],\n",
       "      dtype='object')"
      ]
     },
     "execution_count": 5,
     "metadata": {},
     "output_type": "execute_result"
    }
   ],
   "source": [
    "netflix_titles.columns"
   ]
  },
  {
   "cell_type": "markdown",
   "id": "4b63b230",
   "metadata": {
    "papermill": {
     "duration": 0.025881,
     "end_time": "2021-10-26T15:00:21.243138",
     "exception": false,
     "start_time": "2021-10-26T15:00:21.217257",
     "status": "completed"
    },
    "tags": []
   },
   "source": [
    "**.head:** Ver as primeiras n (5 por default) linhas do dataframe"
   ]
  },
  {
   "cell_type": "code",
   "execution_count": 6,
   "id": "b96c28e9",
   "metadata": {
    "execution": {
     "iopub.execute_input": "2021-10-26T15:00:21.294112Z",
     "iopub.status.busy": "2021-10-26T15:00:21.289963Z",
     "iopub.status.idle": "2021-10-26T15:00:21.312244Z",
     "shell.execute_reply": "2021-10-26T15:00:21.312812Z",
     "shell.execute_reply.started": "2021-10-26T14:32:37.819626Z"
    },
    "papermill": {
     "duration": 0.046588,
     "end_time": "2021-10-26T15:00:21.313036",
     "exception": false,
     "start_time": "2021-10-26T15:00:21.266448",
     "status": "completed"
    },
    "tags": []
   },
   "outputs": [
    {
     "data": {
      "text/html": [
       "<div>\n",
       "<style scoped>\n",
       "    .dataframe tbody tr th:only-of-type {\n",
       "        vertical-align: middle;\n",
       "    }\n",
       "\n",
       "    .dataframe tbody tr th {\n",
       "        vertical-align: top;\n",
       "    }\n",
       "\n",
       "    .dataframe thead th {\n",
       "        text-align: right;\n",
       "    }\n",
       "</style>\n",
       "<table border=\"1\" class=\"dataframe\">\n",
       "  <thead>\n",
       "    <tr style=\"text-align: right;\">\n",
       "      <th></th>\n",
       "      <th>show_id</th>\n",
       "      <th>type</th>\n",
       "      <th>title</th>\n",
       "      <th>director</th>\n",
       "      <th>cast</th>\n",
       "      <th>country</th>\n",
       "      <th>date_added</th>\n",
       "      <th>release_year</th>\n",
       "      <th>rating</th>\n",
       "      <th>duration</th>\n",
       "      <th>listed_in</th>\n",
       "      <th>description</th>\n",
       "    </tr>\n",
       "  </thead>\n",
       "  <tbody>\n",
       "    <tr>\n",
       "      <th>0</th>\n",
       "      <td>s1</td>\n",
       "      <td>Movie</td>\n",
       "      <td>Dick Johnson Is Dead</td>\n",
       "      <td>Kirsten Johnson</td>\n",
       "      <td>NaN</td>\n",
       "      <td>United States</td>\n",
       "      <td>September 25, 2021</td>\n",
       "      <td>2020</td>\n",
       "      <td>PG-13</td>\n",
       "      <td>90 min</td>\n",
       "      <td>Documentaries</td>\n",
       "      <td>As her father nears the end of his life, filmm...</td>\n",
       "    </tr>\n",
       "    <tr>\n",
       "      <th>1</th>\n",
       "      <td>s2</td>\n",
       "      <td>TV Show</td>\n",
       "      <td>Blood &amp; Water</td>\n",
       "      <td>NaN</td>\n",
       "      <td>Ama Qamata, Khosi Ngema, Gail Mabalane, Thaban...</td>\n",
       "      <td>South Africa</td>\n",
       "      <td>September 24, 2021</td>\n",
       "      <td>2021</td>\n",
       "      <td>TV-MA</td>\n",
       "      <td>2 Seasons</td>\n",
       "      <td>International TV Shows, TV Dramas, TV Mysteries</td>\n",
       "      <td>After crossing paths at a party, a Cape Town t...</td>\n",
       "    </tr>\n",
       "    <tr>\n",
       "      <th>2</th>\n",
       "      <td>s3</td>\n",
       "      <td>TV Show</td>\n",
       "      <td>Ganglands</td>\n",
       "      <td>Julien Leclercq</td>\n",
       "      <td>Sami Bouajila, Tracy Gotoas, Samuel Jouy, Nabi...</td>\n",
       "      <td>NaN</td>\n",
       "      <td>September 24, 2021</td>\n",
       "      <td>2021</td>\n",
       "      <td>TV-MA</td>\n",
       "      <td>1 Season</td>\n",
       "      <td>Crime TV Shows, International TV Shows, TV Act...</td>\n",
       "      <td>To protect his family from a powerful drug lor...</td>\n",
       "    </tr>\n",
       "    <tr>\n",
       "      <th>3</th>\n",
       "      <td>s4</td>\n",
       "      <td>TV Show</td>\n",
       "      <td>Jailbirds New Orleans</td>\n",
       "      <td>NaN</td>\n",
       "      <td>NaN</td>\n",
       "      <td>NaN</td>\n",
       "      <td>September 24, 2021</td>\n",
       "      <td>2021</td>\n",
       "      <td>TV-MA</td>\n",
       "      <td>1 Season</td>\n",
       "      <td>Docuseries, Reality TV</td>\n",
       "      <td>Feuds, flirtations and toilet talk go down amo...</td>\n",
       "    </tr>\n",
       "    <tr>\n",
       "      <th>4</th>\n",
       "      <td>s5</td>\n",
       "      <td>TV Show</td>\n",
       "      <td>Kota Factory</td>\n",
       "      <td>NaN</td>\n",
       "      <td>Mayur More, Jitendra Kumar, Ranjan Raj, Alam K...</td>\n",
       "      <td>India</td>\n",
       "      <td>September 24, 2021</td>\n",
       "      <td>2021</td>\n",
       "      <td>TV-MA</td>\n",
       "      <td>2 Seasons</td>\n",
       "      <td>International TV Shows, Romantic TV Shows, TV ...</td>\n",
       "      <td>In a city of coaching centers known to train I...</td>\n",
       "    </tr>\n",
       "  </tbody>\n",
       "</table>\n",
       "</div>"
      ],
      "text/plain": [
       "  show_id     type                  title         director  \\\n",
       "0      s1    Movie   Dick Johnson Is Dead  Kirsten Johnson   \n",
       "1      s2  TV Show          Blood & Water              NaN   \n",
       "2      s3  TV Show              Ganglands  Julien Leclercq   \n",
       "3      s4  TV Show  Jailbirds New Orleans              NaN   \n",
       "4      s5  TV Show           Kota Factory              NaN   \n",
       "\n",
       "                                                cast        country  \\\n",
       "0                                                NaN  United States   \n",
       "1  Ama Qamata, Khosi Ngema, Gail Mabalane, Thaban...   South Africa   \n",
       "2  Sami Bouajila, Tracy Gotoas, Samuel Jouy, Nabi...            NaN   \n",
       "3                                                NaN            NaN   \n",
       "4  Mayur More, Jitendra Kumar, Ranjan Raj, Alam K...          India   \n",
       "\n",
       "           date_added  release_year rating   duration  \\\n",
       "0  September 25, 2021          2020  PG-13     90 min   \n",
       "1  September 24, 2021          2021  TV-MA  2 Seasons   \n",
       "2  September 24, 2021          2021  TV-MA   1 Season   \n",
       "3  September 24, 2021          2021  TV-MA   1 Season   \n",
       "4  September 24, 2021          2021  TV-MA  2 Seasons   \n",
       "\n",
       "                                           listed_in  \\\n",
       "0                                      Documentaries   \n",
       "1    International TV Shows, TV Dramas, TV Mysteries   \n",
       "2  Crime TV Shows, International TV Shows, TV Act...   \n",
       "3                             Docuseries, Reality TV   \n",
       "4  International TV Shows, Romantic TV Shows, TV ...   \n",
       "\n",
       "                                         description  \n",
       "0  As her father nears the end of his life, filmm...  \n",
       "1  After crossing paths at a party, a Cape Town t...  \n",
       "2  To protect his family from a powerful drug lor...  \n",
       "3  Feuds, flirtations and toilet talk go down amo...  \n",
       "4  In a city of coaching centers known to train I...  "
      ]
     },
     "execution_count": 6,
     "metadata": {},
     "output_type": "execute_result"
    }
   ],
   "source": [
    "netflix_titles.head()"
   ]
  },
  {
   "cell_type": "markdown",
   "id": "f5b3544d",
   "metadata": {
    "papermill": {
     "duration": 0.019527,
     "end_time": "2021-10-26T15:00:21.353851",
     "exception": false,
     "start_time": "2021-10-26T15:00:21.334324",
     "status": "completed"
    },
    "tags": []
   },
   "source": [
    "----\n",
    "# **Manipulando e explorando o Dataframe**\n",
    "\n"
   ]
  },
  {
   "cell_type": "markdown",
   "id": "514002d5",
   "metadata": {
    "papermill": {
     "duration": 0.019361,
     "end_time": "2021-10-26T15:00:21.392572",
     "exception": false,
     "start_time": "2021-10-26T15:00:21.373211",
     "status": "completed"
    },
    "tags": []
   },
   "source": [
    "#### **Selecionando colunas específicas do dataframe**"
   ]
  },
  {
   "cell_type": "code",
   "execution_count": 7,
   "id": "4b4627df",
   "metadata": {
    "execution": {
     "iopub.execute_input": "2021-10-26T15:00:21.433007Z",
     "iopub.status.busy": "2021-10-26T15:00:21.432309Z",
     "iopub.status.idle": "2021-10-26T15:00:21.451206Z",
     "shell.execute_reply": "2021-10-26T15:00:21.451725Z",
     "shell.execute_reply.started": "2021-10-26T14:34:06.564742Z"
    },
    "papermill": {
     "duration": 0.040499,
     "end_time": "2021-10-26T15:00:21.451905",
     "exception": false,
     "start_time": "2021-10-26T15:00:21.411406",
     "status": "completed"
    },
    "tags": []
   },
   "outputs": [
    {
     "data": {
      "text/html": [
       "<div>\n",
       "<style scoped>\n",
       "    .dataframe tbody tr th:only-of-type {\n",
       "        vertical-align: middle;\n",
       "    }\n",
       "\n",
       "    .dataframe tbody tr th {\n",
       "        vertical-align: top;\n",
       "    }\n",
       "\n",
       "    .dataframe thead th {\n",
       "        text-align: right;\n",
       "    }\n",
       "</style>\n",
       "<table border=\"1\" class=\"dataframe\">\n",
       "  <thead>\n",
       "    <tr style=\"text-align: right;\">\n",
       "      <th></th>\n",
       "      <th>title</th>\n",
       "      <th>director</th>\n",
       "      <th>country</th>\n",
       "      <th>description</th>\n",
       "    </tr>\n",
       "  </thead>\n",
       "  <tbody>\n",
       "    <tr>\n",
       "      <th>0</th>\n",
       "      <td>Dick Johnson Is Dead</td>\n",
       "      <td>Kirsten Johnson</td>\n",
       "      <td>United States</td>\n",
       "      <td>As her father nears the end of his life, filmm...</td>\n",
       "    </tr>\n",
       "    <tr>\n",
       "      <th>1</th>\n",
       "      <td>Blood &amp; Water</td>\n",
       "      <td>NaN</td>\n",
       "      <td>South Africa</td>\n",
       "      <td>After crossing paths at a party, a Cape Town t...</td>\n",
       "    </tr>\n",
       "    <tr>\n",
       "      <th>2</th>\n",
       "      <td>Ganglands</td>\n",
       "      <td>Julien Leclercq</td>\n",
       "      <td>NaN</td>\n",
       "      <td>To protect his family from a powerful drug lor...</td>\n",
       "    </tr>\n",
       "    <tr>\n",
       "      <th>3</th>\n",
       "      <td>Jailbirds New Orleans</td>\n",
       "      <td>NaN</td>\n",
       "      <td>NaN</td>\n",
       "      <td>Feuds, flirtations and toilet talk go down amo...</td>\n",
       "    </tr>\n",
       "    <tr>\n",
       "      <th>4</th>\n",
       "      <td>Kota Factory</td>\n",
       "      <td>NaN</td>\n",
       "      <td>India</td>\n",
       "      <td>In a city of coaching centers known to train I...</td>\n",
       "    </tr>\n",
       "    <tr>\n",
       "      <th>...</th>\n",
       "      <td>...</td>\n",
       "      <td>...</td>\n",
       "      <td>...</td>\n",
       "      <td>...</td>\n",
       "    </tr>\n",
       "    <tr>\n",
       "      <th>8802</th>\n",
       "      <td>Zodiac</td>\n",
       "      <td>David Fincher</td>\n",
       "      <td>United States</td>\n",
       "      <td>A political cartoonist, a crime reporter and a...</td>\n",
       "    </tr>\n",
       "    <tr>\n",
       "      <th>8803</th>\n",
       "      <td>Zombie Dumb</td>\n",
       "      <td>NaN</td>\n",
       "      <td>NaN</td>\n",
       "      <td>While living alone in a spooky town, a young g...</td>\n",
       "    </tr>\n",
       "    <tr>\n",
       "      <th>8804</th>\n",
       "      <td>Zombieland</td>\n",
       "      <td>Ruben Fleischer</td>\n",
       "      <td>United States</td>\n",
       "      <td>Looking to survive in a world taken over by zo...</td>\n",
       "    </tr>\n",
       "    <tr>\n",
       "      <th>8805</th>\n",
       "      <td>Zoom</td>\n",
       "      <td>Peter Hewitt</td>\n",
       "      <td>United States</td>\n",
       "      <td>Dragged from civilian life, a former superhero...</td>\n",
       "    </tr>\n",
       "    <tr>\n",
       "      <th>8806</th>\n",
       "      <td>Zubaan</td>\n",
       "      <td>Mozez Singh</td>\n",
       "      <td>India</td>\n",
       "      <td>A scrappy but poor boy worms his way into a ty...</td>\n",
       "    </tr>\n",
       "  </tbody>\n",
       "</table>\n",
       "<p>8807 rows × 4 columns</p>\n",
       "</div>"
      ],
      "text/plain": [
       "                      title         director        country  \\\n",
       "0      Dick Johnson Is Dead  Kirsten Johnson  United States   \n",
       "1             Blood & Water              NaN   South Africa   \n",
       "2                 Ganglands  Julien Leclercq            NaN   \n",
       "3     Jailbirds New Orleans              NaN            NaN   \n",
       "4              Kota Factory              NaN          India   \n",
       "...                     ...              ...            ...   \n",
       "8802                 Zodiac    David Fincher  United States   \n",
       "8803            Zombie Dumb              NaN            NaN   \n",
       "8804             Zombieland  Ruben Fleischer  United States   \n",
       "8805                   Zoom     Peter Hewitt  United States   \n",
       "8806                 Zubaan      Mozez Singh          India   \n",
       "\n",
       "                                            description  \n",
       "0     As her father nears the end of his life, filmm...  \n",
       "1     After crossing paths at a party, a Cape Town t...  \n",
       "2     To protect his family from a powerful drug lor...  \n",
       "3     Feuds, flirtations and toilet talk go down amo...  \n",
       "4     In a city of coaching centers known to train I...  \n",
       "...                                                 ...  \n",
       "8802  A political cartoonist, a crime reporter and a...  \n",
       "8803  While living alone in a spooky town, a young g...  \n",
       "8804  Looking to survive in a world taken over by zo...  \n",
       "8805  Dragged from civilian life, a former superhero...  \n",
       "8806  A scrappy but poor boy worms his way into a ty...  \n",
       "\n",
       "[8807 rows x 4 columns]"
      ]
     },
     "execution_count": 7,
     "metadata": {},
     "output_type": "execute_result"
    }
   ],
   "source": [
    "netflix_titles_reduced = netflix_titles[['title','director','country','description']]\n",
    "netflix_titles_reduced"
   ]
  },
  {
   "cell_type": "markdown",
   "id": "a2cbc900",
   "metadata": {
    "papermill": {
     "duration": 0.019481,
     "end_time": "2021-10-26T15:00:21.490794",
     "exception": false,
     "start_time": "2021-10-26T15:00:21.471313",
     "status": "completed"
    },
    "tags": []
   },
   "source": [
    "#### **Verificando informações únicas**"
   ]
  },
  {
   "cell_type": "code",
   "execution_count": 8,
   "id": "53aa73a6",
   "metadata": {
    "execution": {
     "iopub.execute_input": "2021-10-26T15:00:21.532034Z",
     "iopub.status.busy": "2021-10-26T15:00:21.531387Z",
     "iopub.status.idle": "2021-10-26T15:00:21.541167Z",
     "shell.execute_reply": "2021-10-26T15:00:21.541706Z",
     "shell.execute_reply.started": "2021-10-26T14:34:09.591520Z"
    },
    "papermill": {
     "duration": 0.032335,
     "end_time": "2021-10-26T15:00:21.541873",
     "exception": false,
     "start_time": "2021-10-26T15:00:21.509538",
     "status": "completed"
    },
    "tags": []
   },
   "outputs": [
    {
     "data": {
      "text/plain": [
       "array(['Movie', 'TV Show'], dtype=object)"
      ]
     },
     "execution_count": 8,
     "metadata": {},
     "output_type": "execute_result"
    }
   ],
   "source": [
    "# 1. Utilizando array\n",
    "np.unique(netflix_titles.type.values)"
   ]
  },
  {
   "cell_type": "code",
   "execution_count": 9,
   "id": "88bfbf36",
   "metadata": {
    "execution": {
     "iopub.execute_input": "2021-10-26T15:00:21.583924Z",
     "iopub.status.busy": "2021-10-26T15:00:21.583191Z",
     "iopub.status.idle": "2021-10-26T15:00:21.592512Z",
     "shell.execute_reply": "2021-10-26T15:00:21.591859Z",
     "shell.execute_reply.started": "2021-10-26T14:34:15.321843Z"
    },
    "papermill": {
     "duration": 0.031692,
     "end_time": "2021-10-26T15:00:21.592654",
     "exception": false,
     "start_time": "2021-10-26T15:00:21.560962",
     "status": "completed"
    },
    "tags": []
   },
   "outputs": [
    {
     "data": {
      "text/plain": [
       "array(['Kirsten Johnson', nan, 'Julien Leclercq', ..., 'Majid Al Ansari',\n",
       "       'Peter Hewitt', 'Mozez Singh'], dtype=object)"
      ]
     },
     "execution_count": 9,
     "metadata": {},
     "output_type": "execute_result"
    }
   ],
   "source": [
    "# 2. Utilizando Pandas Series e retornando um array\n",
    "netflix_titles[\"director\"].unique() "
   ]
  },
  {
   "cell_type": "code",
   "execution_count": 10,
   "id": "83cc0306",
   "metadata": {
    "execution": {
     "iopub.execute_input": "2021-10-26T15:00:21.636476Z",
     "iopub.status.busy": "2021-10-26T15:00:21.635870Z",
     "iopub.status.idle": "2021-10-26T15:00:21.641504Z",
     "shell.execute_reply": "2021-10-26T15:00:21.641903Z",
     "shell.execute_reply.started": "2021-10-26T14:34:16.126928Z"
    },
    "papermill": {
     "duration": 0.029844,
     "end_time": "2021-10-26T15:00:21.642066",
     "exception": false,
     "start_time": "2021-10-26T15:00:21.612222",
     "status": "completed"
    },
    "tags": []
   },
   "outputs": [
    {
     "data": {
      "text/plain": [
       "0                     Kirsten Johnson\n",
       "1                                 NaN\n",
       "2                     Julien Leclercq\n",
       "5                       Mike Flanagan\n",
       "6       Robert Cullen, José Luis Ucha\n",
       "                    ...              \n",
       "8792                           Mu Chu\n",
       "8798          Chandra Prakash Dwivedi\n",
       "8801                  Majid Al Ansari\n",
       "8805                     Peter Hewitt\n",
       "8806                      Mozez Singh\n",
       "Name: director, Length: 4529, dtype: object"
      ]
     },
     "execution_count": 10,
     "metadata": {},
     "output_type": "execute_result"
    }
   ],
   "source": [
    "# 3. Utilizando Pandas Series \n",
    "netflix_titles[\"director\"].drop_duplicates() "
   ]
  },
  {
   "cell_type": "markdown",
   "id": "99bed08d",
   "metadata": {
    "papermill": {
     "duration": 0.019442,
     "end_time": "2021-10-26T15:00:21.681125",
     "exception": false,
     "start_time": "2021-10-26T15:00:21.661683",
     "status": "completed"
    },
    "tags": []
   },
   "source": [
    "#### **Agrupando dados**"
   ]
  },
  {
   "cell_type": "code",
   "execution_count": 11,
   "id": "02f90ab6",
   "metadata": {
    "execution": {
     "iopub.execute_input": "2021-10-26T15:00:21.728788Z",
     "iopub.status.busy": "2021-10-26T15:00:21.727958Z",
     "iopub.status.idle": "2021-10-26T15:00:21.734265Z",
     "shell.execute_reply": "2021-10-26T15:00:21.734774Z",
     "shell.execute_reply.started": "2021-10-26T14:34:20.228451Z"
    },
    "papermill": {
     "duration": 0.033549,
     "end_time": "2021-10-26T15:00:21.734952",
     "exception": false,
     "start_time": "2021-10-26T15:00:21.701403",
     "status": "completed"
    },
    "tags": []
   },
   "outputs": [
    {
     "data": {
      "text/plain": [
       "release_year\n",
       "1925       1\n",
       "1942       2\n",
       "1943       3\n",
       "1944       3\n",
       "1945       4\n",
       "        ... \n",
       "2017    1032\n",
       "2018    1147\n",
       "2019    1030\n",
       "2020     953\n",
       "2021     592\n",
       "Name: release_year, Length: 74, dtype: int64"
      ]
     },
     "execution_count": 11,
     "metadata": {},
     "output_type": "execute_result"
    }
   ],
   "source": [
    "group_column = \"release_year\"\n",
    "netflix_titles.groupby(group_column)[group_column].count() #.reset_index(name = \"count\").sort_values(by=\"count\", ascending=False)"
   ]
  },
  {
   "cell_type": "code",
   "execution_count": 12,
   "id": "5fcae92e",
   "metadata": {
    "execution": {
     "iopub.execute_input": "2021-10-26T15:00:21.782934Z",
     "iopub.status.busy": "2021-10-26T15:00:21.782324Z",
     "iopub.status.idle": "2021-10-26T15:00:21.797654Z",
     "shell.execute_reply": "2021-10-26T15:00:21.798134Z",
     "shell.execute_reply.started": "2021-10-26T14:53:37.142783Z"
    },
    "papermill": {
     "duration": 0.042414,
     "end_time": "2021-10-26T15:00:21.798309",
     "exception": false,
     "start_time": "2021-10-26T15:00:21.755895",
     "status": "completed"
    },
    "tags": []
   },
   "outputs": [
    {
     "data": {
      "text/html": [
       "<div>\n",
       "<style scoped>\n",
       "    .dataframe tbody tr th:only-of-type {\n",
       "        vertical-align: middle;\n",
       "    }\n",
       "\n",
       "    .dataframe tbody tr th {\n",
       "        vertical-align: top;\n",
       "    }\n",
       "\n",
       "    .dataframe thead th {\n",
       "        text-align: right;\n",
       "    }\n",
       "</style>\n",
       "<table border=\"1\" class=\"dataframe\">\n",
       "  <thead>\n",
       "    <tr style=\"text-align: right;\">\n",
       "      <th></th>\n",
       "      <th>country</th>\n",
       "      <th>count</th>\n",
       "    </tr>\n",
       "  </thead>\n",
       "  <tbody>\n",
       "    <tr>\n",
       "      <th>603</th>\n",
       "      <td>United States</td>\n",
       "      <td>2818</td>\n",
       "    </tr>\n",
       "    <tr>\n",
       "      <th>251</th>\n",
       "      <td>India</td>\n",
       "      <td>972</td>\n",
       "    </tr>\n",
       "    <tr>\n",
       "      <th>506</th>\n",
       "      <td>United Kingdom</td>\n",
       "      <td>419</td>\n",
       "    </tr>\n",
       "    <tr>\n",
       "      <th>319</th>\n",
       "      <td>Japan</td>\n",
       "      <td>245</td>\n",
       "    </tr>\n",
       "    <tr>\n",
       "      <th>435</th>\n",
       "      <td>South Korea</td>\n",
       "      <td>199</td>\n",
       "    </tr>\n",
       "    <tr>\n",
       "      <th>...</th>\n",
       "      <td>...</td>\n",
       "      <td>...</td>\n",
       "    </tr>\n",
       "    <tr>\n",
       "      <th>281</th>\n",
       "      <td>Ireland, Canada, Luxembourg, United States, Un...</td>\n",
       "      <td>1</td>\n",
       "    </tr>\n",
       "    <tr>\n",
       "      <th>282</th>\n",
       "      <td>Ireland, Canada, United Kingdom, United States</td>\n",
       "      <td>1</td>\n",
       "    </tr>\n",
       "    <tr>\n",
       "      <th>283</th>\n",
       "      <td>Ireland, Canada, United States, United Kingdom</td>\n",
       "      <td>1</td>\n",
       "    </tr>\n",
       "    <tr>\n",
       "      <th>284</th>\n",
       "      <td>Ireland, France, Iceland, United States, Mexic...</td>\n",
       "      <td>1</td>\n",
       "    </tr>\n",
       "    <tr>\n",
       "      <th>747</th>\n",
       "      <td>Zimbabwe</td>\n",
       "      <td>1</td>\n",
       "    </tr>\n",
       "  </tbody>\n",
       "</table>\n",
       "<p>748 rows × 2 columns</p>\n",
       "</div>"
      ],
      "text/plain": [
       "                                               country  count\n",
       "603                                      United States   2818\n",
       "251                                              India    972\n",
       "506                                     United Kingdom    419\n",
       "319                                              Japan    245\n",
       "435                                        South Korea    199\n",
       "..                                                 ...    ...\n",
       "281  Ireland, Canada, Luxembourg, United States, Un...      1\n",
       "282     Ireland, Canada, United Kingdom, United States      1\n",
       "283     Ireland, Canada, United States, United Kingdom      1\n",
       "284  Ireland, France, Iceland, United States, Mexic...      1\n",
       "747                                           Zimbabwe      1\n",
       "\n",
       "[748 rows x 2 columns]"
      ]
     },
     "execution_count": 12,
     "metadata": {},
     "output_type": "execute_result"
    }
   ],
   "source": [
    "group_column = \"country\"\n",
    "netflix_titles.groupby(group_column)[group_column].count().reset_index(name = \"count\").sort_values(by=\"count\", ascending=False)"
   ]
  },
  {
   "cell_type": "markdown",
   "id": "612f53b8",
   "metadata": {
    "papermill": {
     "duration": 0.020948,
     "end_time": "2021-10-26T15:00:21.841970",
     "exception": false,
     "start_time": "2021-10-26T15:00:21.821022",
     "status": "completed"
    },
    "tags": []
   },
   "source": [
    "----\n",
    "## **Utilizando a visualização na análise dos dados**"
   ]
  },
  {
   "cell_type": "markdown",
   "id": "dad9b2c8",
   "metadata": {
    "papermill": {
     "duration": 0.021091,
     "end_time": "2021-10-26T15:00:21.885293",
     "exception": false,
     "start_time": "2021-10-26T15:00:21.864202",
     "status": "completed"
    },
    "tags": []
   },
   "source": [
    "#### **Agrupando tipos**"
   ]
  },
  {
   "cell_type": "code",
   "execution_count": 13,
   "id": "93fde9ca",
   "metadata": {
    "execution": {
     "iopub.execute_input": "2021-10-26T15:00:21.930513Z",
     "iopub.status.busy": "2021-10-26T15:00:21.929820Z",
     "iopub.status.idle": "2021-10-26T15:00:21.938310Z",
     "shell.execute_reply": "2021-10-26T15:00:21.938811Z",
     "shell.execute_reply.started": "2021-10-26T14:34:40.870082Z"
    },
    "papermill": {
     "duration": 0.033252,
     "end_time": "2021-10-26T15:00:21.938994",
     "exception": false,
     "start_time": "2021-10-26T15:00:21.905742",
     "status": "completed"
    },
    "tags": []
   },
   "outputs": [
    {
     "data": {
      "text/plain": [
       "Movie      6131\n",
       "TV Show    2676\n",
       "Name: type, dtype: int64"
      ]
     },
     "execution_count": 13,
     "metadata": {},
     "output_type": "execute_result"
    }
   ],
   "source": [
    "netflix_titles['type'].value_counts() # .plot(kind='pie',autopct='%1.0f%%')"
   ]
  },
  {
   "cell_type": "markdown",
   "id": "8bcebe17",
   "metadata": {
    "papermill": {
     "duration": 0.020446,
     "end_time": "2021-10-26T15:00:21.980288",
     "exception": false,
     "start_time": "2021-10-26T15:00:21.959842",
     "status": "completed"
    },
    "tags": []
   },
   "source": [
    "#### **Verificando valores faltantes**"
   ]
  },
  {
   "cell_type": "code",
   "execution_count": 14,
   "id": "88e945e2",
   "metadata": {
    "execution": {
     "iopub.execute_input": "2021-10-26T15:00:22.026185Z",
     "iopub.status.busy": "2021-10-26T15:00:22.025223Z",
     "iopub.status.idle": "2021-10-26T15:00:22.335307Z",
     "shell.execute_reply": "2021-10-26T15:00:22.334640Z",
     "shell.execute_reply.started": "2021-10-26T14:48:28.541673Z"
    },
    "papermill": {
     "duration": 0.333221,
     "end_time": "2021-10-26T15:00:22.335485",
     "exception": false,
     "start_time": "2021-10-26T15:00:22.002264",
     "status": "completed"
    },
    "tags": []
   },
   "outputs": [
    {
     "data": {
      "text/plain": [
       "<AxesSubplot:title={'center':'Missing Values'}>"
      ]
     },
     "execution_count": 14,
     "metadata": {},
     "output_type": "execute_result"
    },
    {
     "data": {
      "image/png": "[encoded data removed]",
      "text/plain": [
       "<Figure size 864x504 with 1 Axes>"
      ]
     },
     "metadata": {
      "needs_background": "light"
     },
     "output_type": "display_data"
    }
   ],
   "source": [
    "missing = netflix_titles.isnull().sum().to_frame()\n",
    "missing.plot(title=\"Missing Values\", figsize=(12,7), kind=\"bar\")"
   ]
  },
  {
   "cell_type": "markdown",
   "id": "98aaf1da",
   "metadata": {
    "papermill": {
     "duration": 0.023643,
     "end_time": "2021-10-26T15:00:22.383364",
     "exception": false,
     "start_time": "2021-10-26T15:00:22.359721",
     "status": "completed"
    },
    "tags": []
   },
   "source": [
    "#### **Limpando e preenchendo os dados**"
   ]
  },
  {
   "cell_type": "code",
   "execution_count": 15,
   "id": "e492236c",
   "metadata": {
    "execution": {
     "iopub.execute_input": "2021-10-26T15:00:22.436862Z",
     "iopub.status.busy": "2021-10-26T15:00:22.435733Z",
     "iopub.status.idle": "2021-10-26T15:00:22.444653Z",
     "shell.execute_reply": "2021-10-26T15:00:22.445088Z",
     "shell.execute_reply.started": "2021-10-26T14:46:39.400489Z"
    },
    "papermill": {
     "duration": 0.038365,
     "end_time": "2021-10-26T15:00:22.445271",
     "exception": false,
     "start_time": "2021-10-26T15:00:22.406906",
     "status": "completed"
    },
    "tags": []
   },
   "outputs": [],
   "source": [
    "raw_data = netflix_titles.copy()\n",
    "raw_data['country'] = raw_data['country'].fillna('NA')\n",
    "raw_data['rating'] = raw_data['rating'].fillna('NA') \n",
    "raw_data['director'] = raw_data['director'].fillna('NA')\n",
    "df = raw_data.reset_index()"
   ]
  },
  {
   "cell_type": "markdown",
   "id": "8b5013cc",
   "metadata": {
    "papermill": {
     "duration": 0.022865,
     "end_time": "2021-10-26T15:00:22.490064",
     "exception": false,
     "start_time": "2021-10-26T15:00:22.467199",
     "status": "completed"
    },
    "tags": []
   },
   "source": [
    "#### **Buscando por tendências**"
   ]
  },
  {
   "cell_type": "code",
   "execution_count": 16,
   "id": "a80927ea",
   "metadata": {
    "execution": {
     "iopub.execute_input": "2021-10-26T15:00:22.546604Z",
     "iopub.status.busy": "2021-10-26T15:00:22.537267Z",
     "iopub.status.idle": "2021-10-26T15:00:22.769661Z",
     "shell.execute_reply": "2021-10-26T15:00:22.770102Z",
     "shell.execute_reply.started": "2021-10-26T14:58:59.613210Z"
    },
    "papermill": {
     "duration": 0.25809,
     "end_time": "2021-10-26T15:00:22.770279",
     "exception": false,
     "start_time": "2021-10-26T15:00:22.512189",
     "status": "completed"
    },
    "tags": []
   },
   "outputs": [
    {
     "data": {
      "image/png": "[encoded data removed]",
      "text/plain": [
       "<Figure size 1224x720 with 1 Axes>"
      ]
     },
     "metadata": {
      "needs_background": "light"
     },
     "output_type": "display_data"
    }
   ],
   "source": [
    "df['country'] = df['country'].apply(lambda x: x.split(\",\")[0])\n",
    "cont = df.country.value_counts().head(10)\n",
    "plt.figure(figsize = (17, 10))\n",
    "cont.plot.bar(color = 'burlywood' )\n",
    "plt.xticks(rotation = 0)\n",
    "plt.xlabel(\"PAÍSES\")\n",
    "plt.ylabel(\"NÚMERO DE FILMES\")\n",
    "plt.title(\"OS 10 PRINCIPAIS PAÍSES PRODUTORES DE CONTEÚDO\")\n",
    "plt.show()"
   ]
  },
  {
   "cell_type": "code",
   "execution_count": 17,
   "id": "febc8c4e",
   "metadata": {
    "execution": {
     "iopub.execute_input": "2021-10-26T15:00:22.820819Z",
     "iopub.status.busy": "2021-10-26T15:00:22.820112Z",
     "iopub.status.idle": "2021-10-26T15:00:23.987364Z",
     "shell.execute_reply": "2021-10-26T15:00:23.986811Z",
     "shell.execute_reply.started": "2021-10-26T14:56:44.676788Z"
    },
    "papermill": {
     "duration": 1.194634,
     "end_time": "2021-10-26T15:00:23.987513",
     "exception": false,
     "start_time": "2021-10-26T15:00:22.792879",
     "status": "completed"
    },
    "tags": []
   },
   "outputs": [
    {
     "data": {
      "text/html": [
       "        <script type=\"text/javascript\">\n",
       "        window.PlotlyConfig = {MathJaxConfig: 'local'};\n",
       "        if (window.MathJax) {MathJax.Hub.Config({SVG: {font: \"STIX-Web\"}});}\n",
       "        if (typeof require !== 'undefined') {\n",
       "        require.undef(\"plotly\");\n",
       "        requirejs.config({\n",
       "            paths: {\n",
       "                'plotly': ['https://cdn.plot.ly/plotly-2.4.2.min']\n",
       "            }\n",
       "        });\n",
       "        require(['plotly'], function(Plotly) {\n",
       "            window._Plotly = Plotly;\n",
       "        });\n",
       "        }\n",
       "        </script>\n",
       "        "
      ]
     },
     "metadata": {},
     "output_type": "display_data"
    },
    {
     "data": {
      "text/html": [
       "<div>                            <div id=\"59d258fd-e894-4de2-bcb6-a41d69e80c91\" class=\"plotly-graph-div\" style=\"height:525px; width:100%;\"></div>            <script type=\"text/javascript\">                require([\"plotly\"], function(Plotly) {                    window.PLOTLYENV=window.PLOTLYENV || {};                                    if (document.getElementById(\"59d258fd-e894-4de2-bcb6-a41d69e80c91\")) {                    Plotly.newPlot(                        \"59d258fd-e894-4de2-bcb6-a41d69e80c91\",                        [{\"branchvalues\":\"total\",\"customdata\":[[\"(?)\"],[\"Somalia\"],[\"Vietnam\"],[\"Croatia\"],[\"Syria\"],[\"Philippines\"],[\"Georgia\"],[\"France\"],[\"Peru\"],[\"Russia\"],[\"Brazil\"],[\"United Arab Emirates\"],[\"(?)\"],[\"Singapore\"],[\"Germany\"],[\"Luxembourg\"],[\"India\"],[\"Colombia\"],[\"Kuwait\"],[\"Australia\"],[\"Turkey\"],[\"Spain\"],[\"Sweden\"],[\"Switzerland\"],[\"Indonesia\"],[\"Indonesia\"],[\"Iran\"],[\"Ireland\"],[\"Jordan\"],[\"Israel\"],[\"Mozambique\"],[\"Italy\"],[\"Italy\"],[\"Jamaica\"],[\"Japan\"],[\"Japan\"],[\"Israel\"],[\"Canada\"],[\"Mexico\"],[\"Malaysia\"],[\"South Korea\"],[\"Mexico\"],[\"United States\"],[\"Lebanon\"],[\"Netherlands\"],[\"NA\"],[\"South Africa\"],[\"Senegal\"],[\"Saudi Arabia\"],[\"Russia\"],[\"Switzerland\"],[\"Philippines\"],[\"Taiwan\"],[\"Thailand\"],[\"Pakistan\"],[\"Norway\"],[\"Norway\"],[\"Nigeria\"],[\"United Arab Emirates\"],[\"United Kingdom\"],[\"New Zealand\"],[\"Soviet Union\"],[\"Namibia\"],[\"NA\"],[\"Pakistan\"],[\"Malaysia\"],[\"Kenya\"],[\"China\"],[\"Chile\"],[\"Denmark\"],[\"Denmark\"],[\"Chile\"],[\"Canada\"],[\"Egypt\"],[\"Finland\"],[\"Finland\"],[\"France\"],[\"Cameroon\"],[\"Bulgaria\"],[\"Colombia\"],[\"Brazil\"],[\"Belgium\"],[\"Austria\"],[\"Hong Kong\"],[\"Iceland\"],[\"Australia\"],[\"Argentina\"],[\"Argentina\"],[\"Belgium\"],[\"Croatia\"],[\"Nigeria\"],[\"Mauritius\"],[\"India\"],[\"Hungary\"],[\"United States\"],[\"\"],[\"Thailand\"],[\"Serbia\"],[\"South Africa\"],[\"Paraguay\"],[\"China\"],[\"Romania\"],[\"Bangladesh\"],[\"Sweden\"],[\"Kuwait\"],[\"Poland\"],[\"Mauritius\"],[\"Spain\"],[\"Taiwan\"],[\"Egypt\"],[\"Ukraine\"],[\"Austria\"],[\"Hong Kong\"],[\"United Kingdom\"],[\"Iceland\"],[\"Uruguay\"],[\"Uruguay\"],[\"Venezuela\"],[\"Ireland\"],[\"West Germany\"],[\"Zimbabwe\"],[\"Lebanon\"],[\"(?)\"],[\"Turkey\"],[\"Ghana\"],[\"Belarus\"],[\"Czech Republic\"],[\"Cyprus\"],[\"Saudi Arabia\"],[\"Portugal\"],[\"Poland\"],[\"Singapore\"],[\"Slovenia\"],[\"Czech Republic\"],[\"South Korea\"],[\"Germany\"],[\"Cambodia\"],[\"New Zealand\"],[\"Netherlands\"],[\"Puerto Rico\"],[\"Greece\"],[\"Guatemala\"],[\"\"]],\"domain\":{\"x\":[0.0,1.0],\"y\":[0.0,1.0]},\"hovertemplate\":\"labels=%{label}<br>count=%{value}<br>parent=%{parent}<br>id=%{id}<br>country=%{customdata[0]}<extra></extra>\",\"ids\":[\"type/Movie\",\"type/Movie/Somalia\",\"type/Movie/Vietnam\",\"type/Movie/Croatia\",\"type/Movie/Syria\",\"type/Movie/Philippines\",\"type/Movie/Georgia\",\"type/TV Show/France\",\"type/Movie/Peru\",\"type/Movie/Russia\",\"type/Movie/Brazil\",\"type/TV Show/United Arab Emirates\",\"type\",\"type/Movie/Singapore\",\"type/Movie/Germany\",\"type/TV Show/Luxembourg\",\"type/TV Show/India\",\"type/TV Show/Colombia\",\"type/TV Show/Kuwait\",\"type/Movie/Australia\",\"type/TV Show/Turkey\",\"type/Movie/Spain\",\"type/Movie/Sweden\",\"type/Movie/Switzerland\",\"type/Movie/Indonesia\",\"type/TV Show/Indonesia\",\"type/Movie/Iran\",\"type/Movie/Ireland\",\"type/TV Show/Jordan\",\"type/Movie/Israel\",\"type/Movie/Mozambique\",\"type/Movie/Italy\",\"type/TV Show/Italy\",\"type/Movie/Jamaica\",\"type/Movie/Japan\",\"type/TV Show/Japan\",\"type/TV Show/Israel\",\"type/Movie/Canada\",\"type/Movie/Mexico\",\"type/Movie/Malaysia\",\"type/TV Show/South Korea\",\"type/TV Show/Mexico\",\"type/Movie/United States\",\"type/TV Show/Lebanon\",\"type/Movie/Netherlands\",\"type/TV Show/NA\",\"type/TV Show/South Africa\",\"type/TV Show/Senegal\",\"type/TV Show/Saudi Arabia\",\"type/TV Show/Russia\",\"type/TV Show/Switzerland\",\"type/TV Show/Philippines\",\"type/Movie/Taiwan\",\"type/Movie/Thailand\",\"type/Movie/Pakistan\",\"type/TV Show/Norway\",\"type/Movie/Norway\",\"type/TV Show/Nigeria\",\"type/Movie/United Arab Emirates\",\"type/Movie/United Kingdom\",\"type/TV Show/New Zealand\",\"type/Movie/Soviet Union\",\"type/Movie/Namibia\",\"type/Movie/NA\",\"type/TV Show/Pakistan\",\"type/TV Show/Malaysia\",\"type/Movie/Kenya\",\"type/TV Show/China\",\"type/TV Show/Chile\",\"type/Movie/Denmark\",\"type/TV Show/Denmark\",\"type/Movie/Chile\",\"type/TV Show/Canada\",\"type/TV Show/Egypt\",\"type/Movie/Finland\",\"type/TV Show/Finland\",\"type/Movie/France\",\"type/Movie/Cameroon\",\"type/Movie/Bulgaria\",\"type/Movie/Colombia\",\"type/TV Show/Brazil\",\"type/Movie/Belgium\",\"type/Movie/Austria\",\"type/TV Show/Hong Kong\",\"type/Movie/Iceland\",\"type/TV Show/Australia\",\"type/TV Show/Argentina\",\"type/Movie/Argentina\",\"type/TV Show/Belgium\",\"type/TV Show/Croatia\",\"type/Movie/Nigeria\",\"type/TV Show/Mauritius\",\"type/Movie/India\",\"type/Movie/Hungary\",\"type/TV Show/United States\",\"type/TV Show/\",\"type/TV Show/Thailand\",\"type/Movie/Serbia\",\"type/Movie/South Africa\",\"type/Movie/Paraguay\",\"type/Movie/China\",\"type/Movie/Romania\",\"type/Movie/Bangladesh\",\"type/TV Show/Sweden\",\"type/Movie/Kuwait\",\"type/Movie/Poland\",\"type/Movie/Mauritius\",\"type/TV Show/Spain\",\"type/TV Show/Taiwan\",\"type/Movie/Egypt\",\"type/TV Show/Ukraine\",\"type/TV Show/Austria\",\"type/Movie/Hong Kong\",\"type/TV Show/United Kingdom\",\"type/TV Show/Iceland\",\"type/Movie/Uruguay\",\"type/TV Show/Uruguay\",\"type/Movie/Venezuela\",\"type/TV Show/Ireland\",\"type/Movie/West Germany\",\"type/Movie/Zimbabwe\",\"type/Movie/Lebanon\",\"type/TV Show\",\"type/Movie/Turkey\",\"type/Movie/Ghana\",\"type/TV Show/Belarus\",\"type/Movie/Czech Republic\",\"type/TV Show/Cyprus\",\"type/Movie/Saudi Arabia\",\"type/Movie/Portugal\",\"type/TV Show/Poland\",\"type/TV Show/Singapore\",\"type/Movie/Slovenia\",\"type/TV Show/Czech Republic\",\"type/Movie/South Korea\",\"type/TV Show/Germany\",\"type/Movie/Cambodia\",\"type/Movie/New Zealand\",\"type/TV Show/Netherlands\",\"type/TV Show/Puerto Rico\",\"type/Movie/Greece\",\"type/Movie/Guatemala\",\"type/Movie/\"],\"labels\":[\"Movie\",\"Somalia\",\"Vietnam\",\"Croatia\",\"Syria\",\"Philippines\",\"Georgia\",\"France\",\"Peru\",\"Russia\",\"Brazil\",\"United Arab Emirates\",\"type\",\"Singapore\",\"Germany\",\"Luxembourg\",\"India\",\"Colombia\",\"Kuwait\",\"Australia\",\"Turkey\",\"Spain\",\"Sweden\",\"Switzerland\",\"Indonesia\",\"Indonesia\",\"Iran\",\"Ireland\",\"Jordan\",\"Israel\",\"Mozambique\",\"Italy\",\"Italy\",\"Jamaica\",\"Japan\",\"Japan\",\"Israel\",\"Canada\",\"Mexico\",\"Malaysia\",\"South Korea\",\"Mexico\",\"United States\",\"Lebanon\",\"Netherlands\",\"NA\",\"South Africa\",\"Senegal\",\"Saudi Arabia\",\"Russia\",\"Switzerland\",\"Philippines\",\"Taiwan\",\"Thailand\",\"Pakistan\",\"Norway\",\"Norway\",\"Nigeria\",\"United Arab Emirates\",\"United Kingdom\",\"New Zealand\",\"Soviet Union\",\"Namibia\",\"NA\",\"Pakistan\",\"Malaysia\",\"Kenya\",\"China\",\"Chile\",\"Denmark\",\"Denmark\",\"Chile\",\"Canada\",\"Egypt\",\"Finland\",\"Finland\",\"France\",\"Cameroon\",\"Bulgaria\",\"Colombia\",\"Brazil\",\"Belgium\",\"Austria\",\"Hong Kong\",\"Iceland\",\"Australia\",\"Argentina\",\"Argentina\",\"Belgium\",\"Croatia\",\"Nigeria\",\"Mauritius\",\"India\",\"Hungary\",\"United States\",\"\",\"Thailand\",\"Serbia\",\"South Africa\",\"Paraguay\",\"China\",\"Romania\",\"Bangladesh\",\"Sweden\",\"Kuwait\",\"Poland\",\"Mauritius\",\"Spain\",\"Taiwan\",\"Egypt\",\"Ukraine\",\"Austria\",\"Hong Kong\",\"United Kingdom\",\"Iceland\",\"Uruguay\",\"Uruguay\",\"Venezuela\",\"Ireland\",\"West Germany\",\"Zimbabwe\",\"Lebanon\",\"TV Show\",\"Turkey\",\"Ghana\",\"Belarus\",\"Czech Republic\",\"Cyprus\",\"Saudi Arabia\",\"Portugal\",\"Poland\",\"Singapore\",\"Slovenia\",\"Czech Republic\",\"South Korea\",\"Germany\",\"Cambodia\",\"New Zealand\",\"Netherlands\",\"Puerto Rico\",\"Greece\",\"Guatemala\",\"\"],\"marker\":{\"colors\":[\"#636efa\",\"#EF553B\",\"#00cc96\",\"#ab63fa\",\"#FFA15A\",\"#19d3f3\",\"#FF6692\",\"#B6E880\",\"#FF97FF\",\"#FECB52\",\"#636efa\",\"#EF553B\",\"#636efa\",\"#00cc96\",\"#ab63fa\",\"#FFA15A\",\"#19d3f3\",\"#FF6692\",\"#B6E880\",\"#FF97FF\",\"#FECB52\",\"#636efa\",\"#EF553B\",\"#00cc96\",\"#ab63fa\",\"#ab63fa\",\"#FFA15A\",\"#19d3f3\",\"#FF6692\",\"#B6E880\",\"#FF97FF\",\"#FECB52\",\"#FECB52\",\"#636efa\",\"#EF553B\",\"#EF553B\",\"#B6E880\",\"#00cc96\",\"#ab63fa\",\"#FFA15A\",\"#19d3f3\",\"#ab63fa\",\"#FF6692\",\"#B6E880\",\"#FF97FF\",\"#FECB52\",\"#636efa\",\"#EF553B\",\"#00cc96\",\"#FECB52\",\"#00cc96\",\"#19d3f3\",\"#ab63fa\",\"#FFA15A\",\"#19d3f3\",\"#FF6692\",\"#FF6692\",\"#B6E880\",\"#EF553B\",\"#FF97FF\",\"#FECB52\",\"#636efa\",\"#EF553B\",\"#FECB52\",\"#19d3f3\",\"#FFA15A\",\"#00cc96\",\"#ab63fa\",\"#FFA15A\",\"#19d3f3\",\"#19d3f3\",\"#FFA15A\",\"#00cc96\",\"#FF6692\",\"#B6E880\",\"#B6E880\",\"#B6E880\",\"#FF97FF\",\"#FECB52\",\"#FF6692\",\"#636efa\",\"#636efa\",\"#EF553B\",\"#00cc96\",\"#ab63fa\",\"#FF97FF\",\"#FFA15A\",\"#FFA15A\",\"#636efa\",\"#ab63fa\",\"#B6E880\",\"#19d3f3\",\"#19d3f3\",\"#FF6692\",\"#FF6692\",\"#B6E880\",\"#FFA15A\",\"#FF97FF\",\"#636efa\",\"#FECB52\",\"#ab63fa\",\"#636efa\",\"#EF553B\",\"#EF553B\",\"#B6E880\",\"#00cc96\",\"#19d3f3\",\"#636efa\",\"#ab63fa\",\"#FF6692\",\"#ab63fa\",\"#EF553B\",\"#00cc96\",\"#FF97FF\",\"#ab63fa\",\"#FFA15A\",\"#FFA15A\",\"#19d3f3\",\"#19d3f3\",\"#FF6692\",\"#B6E880\",\"#B6E880\",\"#636efa\",\"#FECB52\",\"#FF97FF\",\"#FECB52\",\"#636efa\",\"#EF553B\",\"#00cc96\",\"#00cc96\",\"#00cc96\",\"#00cc96\",\"#ab63fa\",\"#636efa\",\"#19d3f3\",\"#ab63fa\",\"#FFA15A\",\"#FECB52\",\"#FF97FF\",\"#19d3f3\",\"#FF6692\",\"#B6E880\",\"#B6E880\"]},\"name\":\"\",\"parents\":[\"type\",\"type/Movie\",\"type/Movie\",\"type/Movie\",\"type/Movie\",\"type/Movie\",\"type/Movie\",\"type/TV Show\",\"type/Movie\",\"type/Movie\",\"type/Movie\",\"type/TV Show\",\"\",\"type/Movie\",\"type/Movie\",\"type/TV Show\",\"type/TV Show\",\"type/TV Show\",\"type/TV Show\",\"type/Movie\",\"type/TV Show\",\"type/Movie\",\"type/Movie\",\"type/Movie\",\"type/Movie\",\"type/TV Show\",\"type/Movie\",\"type/Movie\",\"type/TV Show\",\"type/Movie\",\"type/Movie\",\"type/Movie\",\"type/TV Show\",\"type/Movie\",\"type/Movie\",\"type/TV Show\",\"type/TV Show\",\"type/Movie\",\"type/Movie\",\"type/Movie\",\"type/TV Show\",\"type/TV Show\",\"type/Movie\",\"type/TV Show\",\"type/Movie\",\"type/TV Show\",\"type/TV Show\",\"type/TV Show\",\"type/TV Show\",\"type/TV Show\",\"type/TV Show\",\"type/TV Show\",\"type/Movie\",\"type/Movie\",\"type/Movie\",\"type/TV Show\",\"type/Movie\",\"type/TV Show\",\"type/Movie\",\"type/Movie\",\"type/TV Show\",\"type/Movie\",\"type/Movie\",\"type/Movie\",\"type/TV Show\",\"type/TV Show\",\"type/Movie\",\"type/TV Show\",\"type/TV Show\",\"type/Movie\",\"type/TV Show\",\"type/Movie\",\"type/TV Show\",\"type/TV Show\",\"type/Movie\",\"type/TV Show\",\"type/Movie\",\"type/Movie\",\"type/Movie\",\"type/Movie\",\"type/TV Show\",\"type/Movie\",\"type/Movie\",\"type/TV Show\",\"type/Movie\",\"type/TV Show\",\"type/TV Show\",\"type/Movie\",\"type/TV Show\",\"type/TV Show\",\"type/Movie\",\"type/TV Show\",\"type/Movie\",\"type/Movie\",\"type/TV Show\",\"type/TV Show\",\"type/TV Show\",\"type/Movie\",\"type/Movie\",\"type/Movie\",\"type/Movie\",\"type/Movie\",\"type/Movie\",\"type/TV Show\",\"type/Movie\",\"type/Movie\",\"type/Movie\",\"type/TV Show\",\"type/TV Show\",\"type/Movie\",\"type/TV Show\",\"type/TV Show\",\"type/Movie\",\"type/TV Show\",\"type/TV Show\",\"type/Movie\",\"type/TV Show\",\"type/Movie\",\"type/TV Show\",\"type/Movie\",\"type/Movie\",\"type/Movie\",\"type\",\"type/Movie\",\"type/Movie\",\"type/TV Show\",\"type/Movie\",\"type/TV Show\",\"type/Movie\",\"type/Movie\",\"type/TV Show\",\"type/TV Show\",\"type/Movie\",\"type/TV Show\",\"type/Movie\",\"type/TV Show\",\"type/Movie\",\"type/Movie\",\"type/TV Show\",\"type/TV Show\",\"type/Movie\",\"type/Movie\",\"type/Movie\"],\"type\":\"treemap\",\"values\":[6131,1,7,1,1,77,2,64,6,5,56,1,8807,10,78,1,81,25,2,61,30,129,11,7,83,2,1,22,2,12,1,48,19,1,85,174,10,187,86,16,164,48,2364,6,23,391,6,1,4,14,1,3,15,41,18,9,12,9,20,382,2,1,1,440,4,7,4,41,4,19,11,18,84,14,3,3,148,1,5,15,28,9,8,3,3,56,20,56,9,1,87,1,927,5,847,1,24,3,35,1,59,10,3,8,5,22,1,52,70,98,2,1,76,246,3,8,1,2,6,1,1,18,2676,81,4,1,5,1,7,4,8,18,1,1,47,25,2,15,5,1,1,1,1]}],                        {\"legend\":{\"tracegroupgap\":0},\"margin\":{\"t\":60},\"template\":{\"data\":{\"bar\":[{\"error_x\":{\"color\":\"#2a3f5f\"},\"error_y\":{\"color\":\"#2a3f5f\"},\"marker\":{\"line\":{\"color\":\"#E5ECF6\",\"width\":0.5},\"pattern\":{\"fillmode\":\"overlay\",\"size\":10,\"solidity\":0.2}},\"type\":\"bar\"}],\"barpolar\":[{\"marker\":{\"line\":{\"color\":\"#E5ECF6\",\"width\":0.5},\"pattern\":{\"fillmode\":\"overlay\",\"size\":10,\"solidity\":0.2}},\"type\":\"barpolar\"}],\"carpet\":[{\"aaxis\":{\"endlinecolor\":\"#2a3f5f\",\"gridcolor\":\"white\",\"linecolor\":\"white\",\"minorgridcolor\":\"white\",\"startlinecolor\":\"#2a3f5f\"},\"baxis\":{\"endlinecolor\":\"#2a3f5f\",\"gridcolor\":\"white\",\"linecolor\":\"white\",\"minorgridcolor\":\"white\",\"startlinecolor\":\"#2a3f5f\"},\"type\":\"carpet\"}],\"choropleth\":[{\"colorbar\":{\"outlinewidth\":0,\"ticks\":\"\"},\"type\":\"choropleth\"}],\"contour\":[{\"colorbar\":{\"outlinewidth\":0,\"ticks\":\"\"},\"colorscale\":[[0.0,\"#0d0887\"],[0.1111111111111111,\"#46039f\"],[0.2222222222222222,\"#7201a8\"],[0.3333333333333333,\"#9c179e\"],[0.4444444444444444,\"#bd3786\"],[0.5555555555555556,\"#d8576b\"],[0.6666666666666666,\"#ed7953\"],[0.7777777777777778,\"#fb9f3a\"],[0.8888888888888888,\"#fdca26\"],[1.0,\"#f0f921\"]],\"type\":\"contour\"}],\"contourcarpet\":[{\"colorbar\":{\"outlinewidth\":0,\"ticks\":\"\"},\"type\":\"contourcarpet\"}],\"heatmap\":[{\"colorbar\":{\"outlinewidth\":0,\"ticks\":\"\"},\"colorscale\":[[0.0,\"#0d0887\"],[0.1111111111111111,\"#46039f\"],[0.2222222222222222,\"#7201a8\"],[0.3333333333333333,\"#9c179e\"],[0.4444444444444444,\"#bd3786\"],[0.5555555555555556,\"#d8576b\"],[0.6666666666666666,\"#ed7953\"],[0.7777777777777778,\"#fb9f3a\"],[0.8888888888888888,\"#fdca26\"],[1.0,\"#f0f921\"]],\"type\":\"heatmap\"}],\"heatmapgl\":[{\"colorbar\":{\"outlinewidth\":0,\"ticks\":\"\"},\"colorscale\":[[0.0,\"#0d0887\"],[0.1111111111111111,\"#46039f\"],[0.2222222222222222,\"#7201a8\"],[0.3333333333333333,\"#9c179e\"],[0.4444444444444444,\"#bd3786\"],[0.5555555555555556,\"#d8576b\"],[0.6666666666666666,\"#ed7953\"],[0.7777777777777778,\"#fb9f3a\"],[0.8888888888888888,\"#fdca26\"],[1.0,\"#f0f921\"]],\"type\":\"heatmapgl\"}],\"histogram\":[{\"marker\":{\"pattern\":{\"fillmode\":\"overlay\",\"size\":10,\"solidity\":0.2}},\"type\":\"histogram\"}],\"histogram2d\":[{\"colorbar\":{\"outlinewidth\":0,\"ticks\":\"\"},\"colorscale\":[[0.0,\"#0d0887\"],[0.1111111111111111,\"#46039f\"],[0.2222222222222222,\"#7201a8\"],[0.3333333333333333,\"#9c179e\"],[0.4444444444444444,\"#bd3786\"],[0.5555555555555556,\"#d8576b\"],[0.6666666666666666,\"#ed7953\"],[0.7777777777777778,\"#fb9f3a\"],[0.8888888888888888,\"#fdca26\"],[1.0,\"#f0f921\"]],\"type\":\"histogram2d\"}],\"histogram2dcontour\":[{\"colorbar\":{\"outlinewidth\":0,\"ticks\":\"\"},\"colorscale\":[[0.0,\"#0d0887\"],[0.1111111111111111,\"#46039f\"],[0.2222222222222222,\"#7201a8\"],[0.3333333333333333,\"#9c179e\"],[0.4444444444444444,\"#bd3786\"],[0.5555555555555556,\"#d8576b\"],[0.6666666666666666,\"#ed7953\"],[0.7777777777777778,\"#fb9f3a\"],[0.8888888888888888,\"#fdca26\"],[1.0,\"#f0f921\"]],\"type\":\"histogram2dcontour\"}],\"mesh3d\":[{\"colorbar\":{\"outlinewidth\":0,\"ticks\":\"\"},\"type\":\"mesh3d\"}],\"parcoords\":[{\"line\":{\"colorbar\":{\"outlinewidth\":0,\"ticks\":\"\"}},\"type\":\"parcoords\"}],\"pie\":[{\"automargin\":true,\"type\":\"pie\"}],\"scatter\":[{\"marker\":{\"colorbar\":{\"outlinewidth\":0,\"ticks\":\"\"}},\"type\":\"scatter\"}],\"scatter3d\":[{\"line\":{\"colorbar\":{\"outlinewidth\":0,\"ticks\":\"\"}},\"marker\":{\"colorbar\":{\"outlinewidth\":0,\"ticks\":\"\"}},\"type\":\"scatter3d\"}],\"scattercarpet\":[{\"marker\":{\"colorbar\":{\"outlinewidth\":0,\"ticks\":\"\"}},\"type\":\"scattercarpet\"}],\"scattergeo\":[{\"marker\":{\"colorbar\":{\"outlinewidth\":0,\"ticks\":\"\"}},\"type\":\"scattergeo\"}],\"scattergl\":[{\"marker\":{\"colorbar\":{\"outlinewidth\":0,\"ticks\":\"\"}},\"type\":\"scattergl\"}],\"scattermapbox\":[{\"marker\":{\"colorbar\":{\"outlinewidth\":0,\"ticks\":\"\"}},\"type\":\"scattermapbox\"}],\"scatterpolar\":[{\"marker\":{\"colorbar\":{\"outlinewidth\":0,\"ticks\":\"\"}},\"type\":\"scatterpolar\"}],\"scatterpolargl\":[{\"marker\":{\"colorbar\":{\"outlinewidth\":0,\"ticks\":\"\"}},\"type\":\"scatterpolargl\"}],\"scatterternary\":[{\"marker\":{\"colorbar\":{\"outlinewidth\":0,\"ticks\":\"\"}},\"type\":\"scatterternary\"}],\"surface\":[{\"colorbar\":{\"outlinewidth\":0,\"ticks\":\"\"},\"colorscale\":[[0.0,\"#0d0887\"],[0.1111111111111111,\"#46039f\"],[0.2222222222222222,\"#7201a8\"],[0.3333333333333333,\"#9c179e\"],[0.4444444444444444,\"#bd3786\"],[0.5555555555555556,\"#d8576b\"],[0.6666666666666666,\"#ed7953\"],[0.7777777777777778,\"#fb9f3a\"],[0.8888888888888888,\"#fdca26\"],[1.0,\"#f0f921\"]],\"type\":\"surface\"}],\"table\":[{\"cells\":{\"fill\":{\"color\":\"#EBF0F8\"},\"line\":{\"color\":\"white\"}},\"header\":{\"fill\":{\"color\":\"#C8D4E3\"},\"line\":{\"color\":\"white\"}},\"type\":\"table\"}]},\"layout\":{\"annotationdefaults\":{\"arrowcolor\":\"#2a3f5f\",\"arrowhead\":0,\"arrowwidth\":1},\"autotypenumbers\":\"strict\",\"coloraxis\":{\"colorbar\":{\"outlinewidth\":0,\"ticks\":\"\"}},\"colorscale\":{\"diverging\":[[0,\"#8e0152\"],[0.1,\"#c51b7d\"],[0.2,\"#de77ae\"],[0.3,\"#f1b6da\"],[0.4,\"#fde0ef\"],[0.5,\"#f7f7f7\"],[0.6,\"#e6f5d0\"],[0.7,\"#b8e186\"],[0.8,\"#7fbc41\"],[0.9,\"#4d9221\"],[1,\"#276419\"]],\"sequential\":[[0.0,\"#0d0887\"],[0.1111111111111111,\"#46039f\"],[0.2222222222222222,\"#7201a8\"],[0.3333333333333333,\"#9c179e\"],[0.4444444444444444,\"#bd3786\"],[0.5555555555555556,\"#d8576b\"],[0.6666666666666666,\"#ed7953\"],[0.7777777777777778,\"#fb9f3a\"],[0.8888888888888888,\"#fdca26\"],[1.0,\"#f0f921\"]],\"sequentialminus\":[[0.0,\"#0d0887\"],[0.1111111111111111,\"#46039f\"],[0.2222222222222222,\"#7201a8\"],[0.3333333333333333,\"#9c179e\"],[0.4444444444444444,\"#bd3786\"],[0.5555555555555556,\"#d8576b\"],[0.6666666666666666,\"#ed7953\"],[0.7777777777777778,\"#fb9f3a\"],[0.8888888888888888,\"#fdca26\"],[1.0,\"#f0f921\"]]},\"colorway\":[\"#636efa\",\"#EF553B\",\"#00cc96\",\"#ab63fa\",\"#FFA15A\",\"#19d3f3\",\"#FF6692\",\"#B6E880\",\"#FF97FF\",\"#FECB52\"],\"font\":{\"color\":\"#2a3f5f\"},\"geo\":{\"bgcolor\":\"white\",\"lakecolor\":\"white\",\"landcolor\":\"#E5ECF6\",\"showlakes\":true,\"showland\":true,\"subunitcolor\":\"white\"},\"hoverlabel\":{\"align\":\"left\"},\"hovermode\":\"closest\",\"mapbox\":{\"style\":\"light\"},\"paper_bgcolor\":\"white\",\"plot_bgcolor\":\"#E5ECF6\",\"polar\":{\"angularaxis\":{\"gridcolor\":\"white\",\"linecolor\":\"white\",\"ticks\":\"\"},\"bgcolor\":\"#E5ECF6\",\"radialaxis\":{\"gridcolor\":\"white\",\"linecolor\":\"white\",\"ticks\":\"\"}},\"scene\":{\"xaxis\":{\"backgroundcolor\":\"#E5ECF6\",\"gridcolor\":\"white\",\"gridwidth\":2,\"linecolor\":\"white\",\"showbackground\":true,\"ticks\":\"\",\"zerolinecolor\":\"white\"},\"yaxis\":{\"backgroundcolor\":\"#E5ECF6\",\"gridcolor\":\"white\",\"gridwidth\":2,\"linecolor\":\"white\",\"showbackground\":true,\"ticks\":\"\",\"zerolinecolor\":\"white\"},\"zaxis\":{\"backgroundcolor\":\"#E5ECF6\",\"gridcolor\":\"white\",\"gridwidth\":2,\"linecolor\":\"white\",\"showbackground\":true,\"ticks\":\"\",\"zerolinecolor\":\"white\"}},\"shapedefaults\":{\"line\":{\"color\":\"#2a3f5f\"}},\"ternary\":{\"aaxis\":{\"gridcolor\":\"white\",\"linecolor\":\"white\",\"ticks\":\"\"},\"baxis\":{\"gridcolor\":\"white\",\"linecolor\":\"white\",\"ticks\":\"\"},\"bgcolor\":\"#E5ECF6\",\"caxis\":{\"gridcolor\":\"white\",\"linecolor\":\"white\",\"ticks\":\"\"}},\"title\":{\"x\":0.05},\"xaxis\":{\"automargin\":true,\"gridcolor\":\"white\",\"linecolor\":\"white\",\"ticks\":\"\",\"title\":{\"standoff\":15},\"zerolinecolor\":\"white\",\"zerolinewidth\":2},\"yaxis\":{\"automargin\":true,\"gridcolor\":\"white\",\"linecolor\":\"white\",\"ticks\":\"\",\"title\":{\"standoff\":15},\"zerolinecolor\":\"white\",\"zerolinewidth\":2}}}},                        {\"responsive\": true}                    ).then(function(){\n",
       "                            \n",
       "var gd = document.getElementById('59d258fd-e894-4de2-bcb6-a41d69e80c91');\n",
       "var x = new MutationObserver(function (mutations, observer) {{\n",
       "        var display = window.getComputedStyle(gd).display;\n",
       "        if (!display || display === 'none') {{\n",
       "            console.log([gd, 'removed!']);\n",
       "            Plotly.purge(gd);\n",
       "            observer.disconnect();\n",
       "        }}\n",
       "}});\n",
       "\n",
       "// Listen for the removal of the full notebook cells\n",
       "var notebookContainer = gd.closest('#notebook-container');\n",
       "if (notebookContainer) {{\n",
       "    x.observe(notebookContainer, {childList: true});\n",
       "}}\n",
       "\n",
       "// Listen for the clearing of the current output cell\n",
       "var outputEl = gd.closest('.output');\n",
       "if (outputEl) {{\n",
       "    x.observe(outputEl, {childList: true});\n",
       "}}\n",
       "\n",
       "                        })                };                });            </script>        </div>"
      ]
     },
     "metadata": {},
     "output_type": "display_data"
    }
   ],
   "source": [
    "fig = px.treemap(df, path=[px.Constant('type'),'type','country'], color='country')\n",
    "fig.show()"
   ]
  },
  {
   "cell_type": "code",
   "execution_count": 18,
   "id": "6a326a32",
   "metadata": {
    "execution": {
     "iopub.execute_input": "2021-10-26T15:00:24.040323Z",
     "iopub.status.busy": "2021-10-26T15:00:24.039716Z",
     "iopub.status.idle": "2021-10-26T15:00:25.247130Z",
     "shell.execute_reply": "2021-10-26T15:00:25.246589Z",
     "shell.execute_reply.started": "2021-10-26T14:58:22.776572Z"
    },
    "papermill": {
     "duration": 1.234714,
     "end_time": "2021-10-26T15:00:25.247267",
     "exception": false,
     "start_time": "2021-10-26T15:00:24.012553",
     "status": "completed"
    },
    "tags": []
   },
   "outputs": [
    {
     "data": {
      "image/png": "[encoded data removed]",
      "text/plain": [
       "<Figure size 942.75x432 with 1 Axes>"
      ]
     },
     "metadata": {
      "needs_background": "light"
     },
     "output_type": "display_data"
    }
   ],
   "source": [
    "sns.displot(df, x='release_year', hue='type', height=6, aspect=2)\n",
    "plt.title('Ano de lançamento x tipo de conteúdo')\n",
    "plt.show()"
   ]
  },
  {
   "cell_type": "code",
   "execution_count": null,
   "id": "428216bd",
   "metadata": {
    "papermill": {
     "duration": 0.024138,
     "end_time": "2021-10-26T15:00:25.296244",
     "exception": false,
     "start_time": "2021-10-26T15:00:25.272106",
     "status": "completed"
    },
    "tags": []
   },
   "outputs": [],
   "source": []
  }
 ],
 "metadata": {
  "kernelspec": {
   "display_name": "Python 3",
   "language": "python",
   "name": "python3"
  },
  "language_info": {
   "codemirror_mode": {
    "name": "ipython",
    "version": 3
   },
   "file_extension": ".py",
   "mimetype": "text/x-python",
   "name": "python",
   "nbconvert_exporter": "python",
   "pygments_lexer": "ipython3",
   "version": "3.7.10"
  },
  "papermill": {
   "default_parameters": {},
   "duration": 15.602836,
   "end_time": "2021-10-26T15:00:26.130942",
   "environment_variables": {},
   "exception": null,
   "input_path": "__notebook__.ipynb",
   "output_path": "__notebook__.ipynb",
   "parameters": {},
   "start_time": "2021-10-26T15:00:10.528106",
   "version": "2.3.3"
  }
 },
 "nbformat": 4,
 "nbformat_minor": 5
}
